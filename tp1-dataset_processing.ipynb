{
 "metadata": {
  "language_info": {
   "codemirror_mode": {
    "name": "ipython",
    "version": 3
   },
   "file_extension": ".py",
   "mimetype": "text/x-python",
   "name": "python",
   "nbconvert_exporter": "python",
   "pygments_lexer": "ipython3",
   "version": "3.9.5"
  },
  "orig_nbformat": 2,
  "kernelspec": {
   "name": "python395jvsc74a57bd01270bd10a923ec680d62d298ca4d9b0f8dff94d02f0ceda42b2f8c49042112c1",
   "display_name": "Python 3.9.5 64-bit"
  },
  "metadata": {
   "interpreter": {
    "hash": "1270bd10a923ec680d62d298ca4d9b0f8dff94d02f0ceda42b2f8c49042112c1"
   }
  }
 },
 "nbformat": 4,
 "nbformat_minor": 2,
 "cells": [
  {
   "source": [
    "# Preprocesamiento del set de datos\n",
    "\n",
    "Se preparará el set de datos en 2 etapas:\n",
    "\n",
    "1) Analisis\n",
    "2) Procesamiento\n",
    "\n",
    "En la etapa de analisis se pretende determinar que datos son relevantes y cuales no, y determinar que datos textuales pueden ser transformados a datos numericos y como se realizara esta \"traduccion\". \n",
    "\n",
    "En la etapa de procesamiento se realizaran los cambios necesarios al set de datos.\n",
    "\n",
    "\n",
    "\n"
   ],
   "cell_type": "markdown",
   "metadata": {}
  },
  {
   "cell_type": "code",
   "execution_count": null,
   "metadata": {},
   "outputs": [],
   "source": [
    "import pandas as pd\n",
    "\n",
    "dataset = pd.read_csv(\"Accidente.csv\")\n",
    "\n",
    "dataset.head()"
   ]
  },
  {
   "cell_type": "code",
   "execution_count": null,
   "metadata": {},
   "outputs": [],
   "source": []
  }
 ]
}