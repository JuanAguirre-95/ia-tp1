{
 "cells": [
  {
   "cell_type": "markdown",
   "metadata": {},
   "source": [
    "# Introduccion\n",
    "\n",
    "Dado un set de datos de accidentes automovilisticos se quieren utilizar tecnicas de Machine Learning para entrenar un modelo y poder predecir o clasificar la severidad de un accidente.\n",
    "\n",
    "# Tipo de problema\n",
    "\n",
    "Se desea entrenar el modelo para determinar la severidad de un accidente. La severidad se clasifica entre los valores 1 a 4, siendo 1 el menos severo y 4 el más severo. \n"
   ]
  },
  {
   "source": [
    "# Variables y caracteristicas\n",
    "\n",
    "Aca hay que ver de que se trata esto\n"
   ],
   "cell_type": "markdown",
   "metadata": {}
  },
  {
   "source": [
    "# Preprocesamiento del set de datos\n",
    "\n",
    "En este paso se determina el estado del dataset, que datos nos sirven y que se puede mejorar para que el entrenamiento sea satisfactorio.\n",
    "\n",
    "\n",
    "Pandas Dataframe"
   ],
   "cell_type": "markdown",
   "metadata": {}
  },
  {
   "source": [
    "# Modelos de prediccion a aplicar\n",
    "\n",
    "Aca entraria una breve explicacion de que modelos vamos a usar y el por que\n",
    "\n",
    "* Formalizar tecnica de seleccion de datos\n",
    "* Evaluar modelos usados segun resultado obtenido\n",
    "* Comentar ventajas y desventajas de los modelos elegidos"
   ],
   "cell_type": "markdown",
   "metadata": {}
  },
  {
   "source": [
    "# Desarrollo de los distintos modelos\n",
    "\n",
    "1: Gradient\n",
    "2: KNN\n",
    "3: Red neuronal "
   ],
   "cell_type": "markdown",
   "metadata": {}
  },
  {
   "source": [
    "# Presentacion de los resultados obtenidos\n",
    "\n",
    "Aca mostrar resultados de las predicciones, graficos o lo que sea"
   ],
   "cell_type": "markdown",
   "metadata": {}
  },
  {
   "cell_type": "code",
   "execution_count": null,
   "metadata": {},
   "outputs": [],
   "source": []
  }
 ],
 "metadata": {
  "kernelspec": {
   "name": "python392jvsc74a57bd0ac59ebe37160ed0dfa835113d9b8498d9f09ceb179beaac4002f036b9467c963",
   "display_name": "Python 3.9.2 64-bit"
  },
  "language_info": {
   "codemirror_mode": {
    "name": "ipython",
    "version": 3
   },
   "file_extension": ".py",
   "mimetype": "text/x-python",
   "name": "python",
   "nbconvert_exporter": "python",
   "pygments_lexer": "ipython3",
   "version": "3.9.2"
  },
  "metadata": {
   "interpreter": {
    "hash": "ac59ebe37160ed0dfa835113d9b8498d9f09ceb179beaac4002f036b9467c963"
   }
  }
 },
 "nbformat": 4,
 "nbformat_minor": 4
}