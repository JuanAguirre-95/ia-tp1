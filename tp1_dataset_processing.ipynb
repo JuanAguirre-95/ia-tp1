{
 "cells": [
  {
   "cell_type": "markdown",
   "metadata": {},
   "source": [
    "# Preprocesamiento del set de datos\n",
    "\n",
    "Se preparará el set de datos en 2 etapas:\n",
    "\n",
    "1) Analisis\n",
    "2) Procesamiento\n",
    "\n",
    "En la etapa de analisis se pretende determinar que datos son relevantes y cuales no, y determinar que datos textuales pueden ser transformados a datos numericos y como se realizara esta \"traduccion\". \n",
    "\n",
    "En la etapa de procesamiento se realizaran los cambios necesarios al set de datos.\n",
    "\n",
    "\n",
    "\n"
   ]
  },
  {
   "cell_type": "code",
   "execution_count": 1,
   "metadata": {},
   "outputs": [],
   "source": [
    "import pandas as pd\n",
    "\n",
    "dataset = pd.read_csv(\"Accidente.csv\", parse_dates=[5,6,23], true_values = ['true','True'], false_values = ['false','False'])\n"
   ]
  },
  {
   "cell_type": "code",
   "execution_count": 2,
   "metadata": {},
   "outputs": [
    {
     "data": {
      "text/html": [
       "<div>\n",
       "<style scoped>\n",
       "    .dataframe tbody tr th:only-of-type {\n",
       "        vertical-align: middle;\n",
       "    }\n",
       "\n",
       "    .dataframe tbody tr th {\n",
       "        vertical-align: top;\n",
       "    }\n",
       "\n",
       "    .dataframe thead th {\n",
       "        text-align: right;\n",
       "    }\n",
       "</style>\n",
       "<table border=\"1\" class=\"dataframe\">\n",
       "  <thead>\n",
       "    <tr style=\"text-align: right;\">\n",
       "      <th></th>\n",
       "      <th>ID</th>\n",
       "      <th>Source</th>\n",
       "      <th>TMC</th>\n",
       "      <th>Severity</th>\n",
       "      <th>Start_Time</th>\n",
       "      <th>End_Time</th>\n",
       "      <th>Start_Lat</th>\n",
       "      <th>Start_Lng</th>\n",
       "      <th>End_Lat</th>\n",
       "      <th>End_Lng</th>\n",
       "      <th>...</th>\n",
       "      <th>Roundabout</th>\n",
       "      <th>Station</th>\n",
       "      <th>Stop</th>\n",
       "      <th>Traffic_Calming</th>\n",
       "      <th>Traffic_Signal</th>\n",
       "      <th>Turning_Loop</th>\n",
       "      <th>Sunrise_Sunset</th>\n",
       "      <th>Civil_Twilight</th>\n",
       "      <th>Nautical_Twilight</th>\n",
       "      <th>Astronomical_Twilight</th>\n",
       "    </tr>\n",
       "  </thead>\n",
       "  <tbody>\n",
       "    <tr>\n",
       "      <th>0</th>\n",
       "      <td>A-1</td>\n",
       "      <td>MapQuest</td>\n",
       "      <td>201.0</td>\n",
       "      <td>3</td>\n",
       "      <td>2016-02-08 05:46:00</td>\n",
       "      <td>2016-02-08 11:00:00</td>\n",
       "      <td>39.865147</td>\n",
       "      <td>-84.058723</td>\n",
       "      <td>NaN</td>\n",
       "      <td>NaN</td>\n",
       "      <td>...</td>\n",
       "      <td>False</td>\n",
       "      <td>False</td>\n",
       "      <td>False</td>\n",
       "      <td>False</td>\n",
       "      <td>False</td>\n",
       "      <td>False</td>\n",
       "      <td>Night</td>\n",
       "      <td>Night</td>\n",
       "      <td>Night</td>\n",
       "      <td>Night</td>\n",
       "    </tr>\n",
       "    <tr>\n",
       "      <th>1</th>\n",
       "      <td>A-2</td>\n",
       "      <td>MapQuest</td>\n",
       "      <td>201.0</td>\n",
       "      <td>2</td>\n",
       "      <td>2016-02-08 06:07:59</td>\n",
       "      <td>2016-02-08 06:37:59</td>\n",
       "      <td>39.928059</td>\n",
       "      <td>-82.831184</td>\n",
       "      <td>NaN</td>\n",
       "      <td>NaN</td>\n",
       "      <td>...</td>\n",
       "      <td>False</td>\n",
       "      <td>False</td>\n",
       "      <td>False</td>\n",
       "      <td>False</td>\n",
       "      <td>False</td>\n",
       "      <td>False</td>\n",
       "      <td>Night</td>\n",
       "      <td>Night</td>\n",
       "      <td>Night</td>\n",
       "      <td>Day</td>\n",
       "    </tr>\n",
       "    <tr>\n",
       "      <th>2</th>\n",
       "      <td>A-3</td>\n",
       "      <td>MapQuest</td>\n",
       "      <td>201.0</td>\n",
       "      <td>2</td>\n",
       "      <td>2016-02-08 06:49:27</td>\n",
       "      <td>2016-02-08 07:19:27</td>\n",
       "      <td>39.063148</td>\n",
       "      <td>-84.032608</td>\n",
       "      <td>NaN</td>\n",
       "      <td>NaN</td>\n",
       "      <td>...</td>\n",
       "      <td>False</td>\n",
       "      <td>False</td>\n",
       "      <td>False</td>\n",
       "      <td>False</td>\n",
       "      <td>True</td>\n",
       "      <td>False</td>\n",
       "      <td>Night</td>\n",
       "      <td>Night</td>\n",
       "      <td>Day</td>\n",
       "      <td>Day</td>\n",
       "    </tr>\n",
       "    <tr>\n",
       "      <th>3</th>\n",
       "      <td>A-4</td>\n",
       "      <td>MapQuest</td>\n",
       "      <td>201.0</td>\n",
       "      <td>3</td>\n",
       "      <td>2016-02-08 07:23:34</td>\n",
       "      <td>2016-02-08 07:53:34</td>\n",
       "      <td>39.747753</td>\n",
       "      <td>-84.205582</td>\n",
       "      <td>NaN</td>\n",
       "      <td>NaN</td>\n",
       "      <td>...</td>\n",
       "      <td>False</td>\n",
       "      <td>False</td>\n",
       "      <td>False</td>\n",
       "      <td>False</td>\n",
       "      <td>False</td>\n",
       "      <td>False</td>\n",
       "      <td>Night</td>\n",
       "      <td>Day</td>\n",
       "      <td>Day</td>\n",
       "      <td>Day</td>\n",
       "    </tr>\n",
       "    <tr>\n",
       "      <th>4</th>\n",
       "      <td>A-5</td>\n",
       "      <td>MapQuest</td>\n",
       "      <td>201.0</td>\n",
       "      <td>2</td>\n",
       "      <td>2016-02-08 07:39:07</td>\n",
       "      <td>2016-02-08 08:09:07</td>\n",
       "      <td>39.627781</td>\n",
       "      <td>-84.188354</td>\n",
       "      <td>NaN</td>\n",
       "      <td>NaN</td>\n",
       "      <td>...</td>\n",
       "      <td>False</td>\n",
       "      <td>False</td>\n",
       "      <td>False</td>\n",
       "      <td>False</td>\n",
       "      <td>True</td>\n",
       "      <td>False</td>\n",
       "      <td>Day</td>\n",
       "      <td>Day</td>\n",
       "      <td>Day</td>\n",
       "      <td>Day</td>\n",
       "    </tr>\n",
       "  </tbody>\n",
       "</table>\n",
       "<p>5 rows × 49 columns</p>\n",
       "</div>"
      ],
      "text/plain": [
       "    ID    Source    TMC  Severity           Start_Time            End_Time  \\\n",
       "0  A-1  MapQuest  201.0         3  2016-02-08 05:46:00 2016-02-08 11:00:00   \n",
       "1  A-2  MapQuest  201.0         2  2016-02-08 06:07:59 2016-02-08 06:37:59   \n",
       "2  A-3  MapQuest  201.0         2  2016-02-08 06:49:27 2016-02-08 07:19:27   \n",
       "3  A-4  MapQuest  201.0         3  2016-02-08 07:23:34 2016-02-08 07:53:34   \n",
       "4  A-5  MapQuest  201.0         2  2016-02-08 07:39:07 2016-02-08 08:09:07   \n",
       "\n",
       "   Start_Lat  Start_Lng  End_Lat  End_Lng  ...  Roundabout Station   Stop  \\\n",
       "0  39.865147 -84.058723      NaN      NaN  ...       False   False  False   \n",
       "1  39.928059 -82.831184      NaN      NaN  ...       False   False  False   \n",
       "2  39.063148 -84.032608      NaN      NaN  ...       False   False  False   \n",
       "3  39.747753 -84.205582      NaN      NaN  ...       False   False  False   \n",
       "4  39.627781 -84.188354      NaN      NaN  ...       False   False  False   \n",
       "\n",
       "  Traffic_Calming Traffic_Signal Turning_Loop Sunrise_Sunset Civil_Twilight  \\\n",
       "0           False          False        False          Night          Night   \n",
       "1           False          False        False          Night          Night   \n",
       "2           False           True        False          Night          Night   \n",
       "3           False          False        False          Night            Day   \n",
       "4           False           True        False            Day            Day   \n",
       "\n",
       "  Nautical_Twilight Astronomical_Twilight  \n",
       "0             Night                 Night  \n",
       "1             Night                   Day  \n",
       "2               Day                   Day  \n",
       "3               Day                   Day  \n",
       "4               Day                   Day  \n",
       "\n",
       "[5 rows x 49 columns]"
      ]
     },
     "execution_count": 2,
     "metadata": {},
     "output_type": "execute_result"
    }
   ],
   "source": [
    "dataset.head()"
   ]
  },
  {
   "cell_type": "code",
   "execution_count": 3,
   "metadata": {},
   "outputs": [
    {
     "data": {
      "text/plain": [
       "ID                               object\n",
       "Source                           object\n",
       "TMC                             float64\n",
       "Severity                          int64\n",
       "Start_Time                       object\n",
       "End_Time                 datetime64[ns]\n",
       "Start_Lat                        object\n",
       "Start_Lng                       float64\n",
       "End_Lat                         float64\n",
       "End_Lng                         float64\n",
       "Distance(mi)                    float64\n",
       "Description                      object\n",
       "Number                          float64\n",
       "Street                           object\n",
       "Side                             object\n",
       "City                             object\n",
       "County                           object\n",
       "State                            object\n",
       "Zipcode                          object\n",
       "Country                          object\n",
       "Timezone                         object\n",
       "Airport_Code                     object\n",
       "Weather_Timestamp                object\n",
       "Temperature(F)                   object\n",
       "Wind_Chill(F)                   float64\n",
       "Humidity(%)                     float64\n",
       "Pressure(in)                    float64\n",
       "Visibility(mi)                  float64\n",
       "Wind_Direction                   object\n",
       "Wind_Speed(mph)                 float64\n",
       "Precipitation(in)               float64\n",
       "Weather_Condition                object\n",
       "Amenity                            bool\n",
       "Bump                               bool\n",
       "Crossing                           bool\n",
       "Give_Way                           bool\n",
       "Junction                           bool\n",
       "No_Exit                            bool\n",
       "Railway                            bool\n",
       "Roundabout                         bool\n",
       "Station                            bool\n",
       "Stop                               bool\n",
       "Traffic_Calming                    bool\n",
       "Traffic_Signal                     bool\n",
       "Turning_Loop                       bool\n",
       "Sunrise_Sunset                   object\n",
       "Civil_Twilight                   object\n",
       "Nautical_Twilight                object\n",
       "Astronomical_Twilight            object\n",
       "dtype: object"
      ]
     },
     "execution_count": 3,
     "metadata": {},
     "output_type": "execute_result"
    }
   ],
   "source": [
    "dataset.dtypes"
   ]
  },
  {
   "cell_type": "code",
   "execution_count": 4,
   "metadata": {},
   "outputs": [],
   "source": [
    "#dataset['Severity'] = dataset['Severity'].astype('category')\n",
    "dataset['Side'] = dataset['Side'].astype('category')\n",
    "dataset['Wind_Direction'] = dataset['Wind_Direction'].astype('category')\n",
    "dataset['Weather_Condition'] = dataset['Weather_Condition'].astype('category')\n",
    "dataset['Sunrise_Sunset'] = dataset['Sunrise_Sunset'].astype('category')\n",
    "dataset['Civil_Twilight'] = dataset['Civil_Twilight'].astype('category')\n",
    "dataset['Nautical_Twilight'] = dataset['Nautical_Twilight'].astype('category')\n",
    "dataset['Astronomical_Twilight'] = dataset['Astronomical_Twilight'].astype('category')\n",
    "dataset['Temperature(F)'] = dataset['Temperature(F)'].astype('float64')\n",
    "dataset['Start_Time'] = dataset['Start_Time'].astype('datetime64')\n",
    "\n",
    "#for i in range(32,49):\n",
    "#    dataset[dataset.columns[i]] = dataset[dataset.columns[i]].astype('category')"
   ]
  },
  {
   "cell_type": "code",
   "execution_count": 5,
   "metadata": {},
   "outputs": [],
   "source": [
    "time_elapsed = dataset[\"End_Time\"] - dataset[\"Start_Time\"] #Nos sirve mas el tiempo total que el momento de inicio y el de fin"
   ]
  },
  {
   "cell_type": "code",
   "execution_count": 6,
   "metadata": {
    "tags": []
   },
   "outputs": [],
   "source": [
    "dataset[\"Time_Elapsed\"] = time_elapsed #Entonces creamos una nueva columna "
   ]
  },
  {
   "cell_type": "code",
   "execution_count": 7,
   "metadata": {
    "tags": []
   },
   "outputs": [
    {
     "data": {
      "text/plain": [
       "(2974335, 34)"
      ]
     },
     "execution_count": 7,
     "metadata": {},
     "output_type": "execute_result"
    }
   ],
   "source": [
    "dataset = dataset.drop(\"ID\",axis=\"columns\") #\n",
    "dataset = dataset.drop(\"Source\",axis=\"columns\") #No aporta info sobre la severidad\n",
    "dataset = dataset.drop(\"TMC\",axis=\"columns\") #No aporta mucha informacion sobre la severidad\n",
    "dataset = dataset.drop(\"Country\",axis=\"columns\") #Hay un solo valor en todas las columnas\n",
    "dataset = dataset.drop(\"Description\",axis=\"columns\") #Partes de la descripcion se encuentran en otras columnas\n",
    "dataset = dataset.drop(\"End_Lat\",axis=\"columns\") #No aportan mucha info\n",
    "dataset = dataset.drop(\"End_Lng\",axis=\"columns\") #No aportan mucha info\n",
    "dataset = dataset.drop(\"Number\",axis=\"columns\") #Tiene mas valores nulos que medidos\n",
    "dataset = dataset.drop(\"Start_Time\",axis=\"columns\") #Ya guardamos el la duracion del accidente\n",
    "dataset = dataset.drop(\"End_Time\",axis=\"columns\") #Ya guardamos la duracion del accidente\n",
    "dataset = dataset.drop(\"Weather_Timestamp\",axis=\"columns\") #No coincide con el horario del accidente, por lo que no es relevante\n",
    "dataset = dataset.drop(\"Airport_Code\",axis=\"columns\") #No aportan mucha info\n",
    "dataset = dataset.drop(\"Timezone\",axis=\"columns\") #No aportan mucha info\n",
    "dataset = dataset.drop(\"Zipcode\",axis=\"columns\") #No aportan mucha info\n",
    "dataset = dataset.drop(\"State\",axis=\"columns\") #No aportan mucha info\n",
    "dataset = dataset.drop(\"County\",axis=\"columns\") #No aportan mucha info\n",
    "\n",
    "\n",
    "dataset.shape"
   ]
  },
  {
   "cell_type": "markdown",
   "metadata": {},
   "source": [
    "### Explicacion de la eliminacion de ciertas columnas\n",
    "\n",
    "La logica por detras de la eleccion es la siguiente: los accidentes de transito son un fenomeno local. Los factores que suelen influenciar mas la severidad de un accidente suelen ser el estado del clima, si la via donde ocurren esta bien señalizada, etc.. \n",
    "\n",
    "Como fenomeno local queremos implicar que los factores que influyen sobre el accidente deben estar relativamente cercanos al\n",
    "mismo, como por ejemplo un cruce sin semaforo, un cartel publicitario que distrae, asfalto mojado/congelado, etc.. Estos son fenomenos que se pueden observar a ojo desde el epicentro del accidente por lo que informacion sobre el codigo de aeropuerto mas cercano o el departamento del estado donde ocurrio el accidente no es relevante a la hora de determinar la severidad.\n",
    "\n",
    "Un factor que si podemos correlacionar seria la calle, la altura e inclusive la ciudad. Una metropolis suele tener mas accidentes debido a la cantidad de autos que circulan o una calle a determinada altura tiene un pozo que hace que ocurran mas accidentes de lo normal. "
   ]
  },
  {
   "cell_type": "code",
   "execution_count": 8,
   "metadata": {},
   "outputs": [
    {
     "data": {
      "text/plain": [
       "Severity                           int64\n",
       "Start_Lat                         object\n",
       "Start_Lng                        float64\n",
       "Distance(mi)                     float64\n",
       "Street                            object\n",
       "Side                            category\n",
       "City                              object\n",
       "Temperature(F)                   float64\n",
       "Wind_Chill(F)                    float64\n",
       "Humidity(%)                      float64\n",
       "Pressure(in)                     float64\n",
       "Visibility(mi)                   float64\n",
       "Wind_Direction                  category\n",
       "Wind_Speed(mph)                  float64\n",
       "Precipitation(in)                float64\n",
       "Weather_Condition               category\n",
       "Amenity                             bool\n",
       "Bump                                bool\n",
       "Crossing                            bool\n",
       "Give_Way                            bool\n",
       "Junction                            bool\n",
       "No_Exit                             bool\n",
       "Railway                             bool\n",
       "Roundabout                          bool\n",
       "Station                             bool\n",
       "Stop                                bool\n",
       "Traffic_Calming                     bool\n",
       "Traffic_Signal                      bool\n",
       "Turning_Loop                        bool\n",
       "Sunrise_Sunset                  category\n",
       "Civil_Twilight                  category\n",
       "Nautical_Twilight               category\n",
       "Astronomical_Twilight           category\n",
       "Time_Elapsed             timedelta64[ns]\n",
       "dtype: object"
      ]
     },
     "execution_count": 8,
     "metadata": {},
     "output_type": "execute_result"
    }
   ],
   "source": [
    "dataset.dtypes"
   ]
  },
  {
   "cell_type": "code",
   "execution_count": 9,
   "metadata": {},
   "outputs": [
    {
     "data": {
      "text/plain": [
       "Index(['Street', 'City'], dtype='object')"
      ]
     },
     "execution_count": 9,
     "metadata": {},
     "output_type": "execute_result"
    }
   ],
   "source": [
    "obj_cols = dataset.select_dtypes(['object']).columns\n",
    "obj_cols.drop(\"Start_Lat\")\n"
   ]
  },
  {
   "cell_type": "code",
   "execution_count": 10,
   "metadata": {},
   "outputs": [],
   "source": [
    "from sklearn.preprocessing import LabelEncoder\n",
    "\n",
    "# define ordinal encoding\n",
    "street_encoder = LabelEncoder()\n",
    "# transform data\n",
    "enc_street = street_encoder.fit_transform(dataset[\"Street\"])\n",
    "dataset[\"Street\"] = enc_street"
   ]
  },
  {
   "cell_type": "code",
   "execution_count": 11,
   "metadata": {},
   "outputs": [],
   "source": [
    "# define ordinal encoding\n",
    "city_encoder = LabelEncoder()\n",
    "# transform data\n",
    "enc_city = city_encoder.fit_transform(dataset[\"City\"])\n",
    "dataset[\"City\"] = enc_city"
   ]
  },
  {
   "cell_type": "code",
   "execution_count": 12,
   "metadata": {},
   "outputs": [
    {
     "data": {
      "text/plain": [
       "Severity                           int64\n",
       "Start_Lat                         object\n",
       "Start_Lng                        float64\n",
       "Distance(mi)                     float64\n",
       "Street                             int64\n",
       "Side                            category\n",
       "City                               int64\n",
       "Temperature(F)                   float64\n",
       "Wind_Chill(F)                    float64\n",
       "Humidity(%)                      float64\n",
       "Pressure(in)                     float64\n",
       "Visibility(mi)                   float64\n",
       "Wind_Direction                  category\n",
       "Wind_Speed(mph)                  float64\n",
       "Precipitation(in)                float64\n",
       "Weather_Condition               category\n",
       "Amenity                             bool\n",
       "Bump                                bool\n",
       "Crossing                            bool\n",
       "Give_Way                            bool\n",
       "Junction                            bool\n",
       "No_Exit                             bool\n",
       "Railway                             bool\n",
       "Roundabout                          bool\n",
       "Station                             bool\n",
       "Stop                                bool\n",
       "Traffic_Calming                     bool\n",
       "Traffic_Signal                      bool\n",
       "Turning_Loop                        bool\n",
       "Sunrise_Sunset                  category\n",
       "Civil_Twilight                  category\n",
       "Nautical_Twilight               category\n",
       "Astronomical_Twilight           category\n",
       "Time_Elapsed             timedelta64[ns]\n",
       "dtype: object"
      ]
     },
     "execution_count": 12,
     "metadata": {},
     "output_type": "execute_result"
    }
   ],
   "source": [
    "dataset.dtypes"
   ]
  },
  {
   "cell_type": "code",
   "execution_count": 13,
   "metadata": {},
   "outputs": [
    {
     "data": {
      "text/plain": [
       "Index(['Side', 'Wind_Direction', 'Weather_Condition', 'Sunrise_Sunset',\n",
       "       'Civil_Twilight', 'Nautical_Twilight', 'Astronomical_Twilight'],\n",
       "      dtype='object')"
      ]
     },
     "execution_count": 13,
     "metadata": {},
     "output_type": "execute_result"
    }
   ],
   "source": [
    "cat_columns = dataset.select_dtypes(['category']).columns\n",
    "cat_columns"
   ]
  },
  {
   "cell_type": "code",
   "execution_count": 14,
   "metadata": {},
   "outputs": [],
   "source": [
    "#Aca transformamos los valores de las columnas de datos categoricos a su representacion numerica\n",
    "\n",
    "dataset = pd.get_dummies(dataset, columns=cat_columns) #get_dummies utiliza one hot encoding en las columnas categoricas"
   ]
  },
  {
   "cell_type": "code",
   "execution_count": 15,
   "metadata": {},
   "outputs": [
    {
     "data": {
      "text/plain": [
       "(2974335, 182)"
      ]
     },
     "execution_count": 15,
     "metadata": {},
     "output_type": "execute_result"
    }
   ],
   "source": [
    "dataset.shape"
   ]
  },
  {
   "cell_type": "code",
   "execution_count": 16,
   "metadata": {},
   "outputs": [],
   "source": [
    "#%store dataset"
   ]
  },
  {
   "cell_type": "code",
   "execution_count": 18,
   "metadata": {},
   "outputs": [],
   "source": [
    "dataset.to_feather(\"dataframe\")"
   ]
  },
  {
   "cell_type": "code",
   "execution_count": null,
   "metadata": {},
   "outputs": [],
   "source": []
  }
 ],
 "metadata": {
  "kernelspec": {
   "display_name": "Python 3",
   "language": "python",
   "name": "python3"
  },
  "language_info": {
   "codemirror_mode": {
    "name": "ipython",
    "version": 3
   },
   "file_extension": ".py",
   "mimetype": "text/x-python",
   "name": "python",
   "nbconvert_exporter": "python",
   "pygments_lexer": "ipython3",
   "version": "3.9.2"
  },
  "metadata": {
   "interpreter": {
    "hash": "1270bd10a923ec680d62d298ca4d9b0f8dff94d02f0ceda42b2f8c49042112c1"
   }
  }
 },
 "nbformat": 4,
 "nbformat_minor": 4
}
